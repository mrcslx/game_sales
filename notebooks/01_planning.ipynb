{
 "cells": [
  {
   "cell_type": "markdown",
   "id": "ff1ef6ce",
   "metadata": {},
   "source": [
    "# 2.4 Expectations"
   ]
  },
  {
   "cell_type": "markdown",
   "id": "de75ddca",
   "metadata": {},
   "source": [
    "As this is an end-to-end data project we’d like you to carry out and document each stage of your project. The steps we’d like to see are:\n",
    "\n",
    "1. Defining: identifying the question being solved and why it is important to the business\n",
    "2. Planning: plan the analysis and rough timings over the project period\n",
    "3. Understanding: initial understanding of provided data and identify any data augmentation\n",
    "4. Analysing: manipulation, modelling and validating\n",
    "5. Concluding: inferring and communicating findings through reports and visualisations\n",
    "6. Implementing: recommendations for real-world implementation, next steps and any limitations to using the findings and outputs."
   ]
  },
  {
   "cell_type": "markdown",
   "id": "eb27695e",
   "metadata": {},
   "source": [
    "# Business Question"
   ]
  },
  {
   "cell_type": "markdown",
   "id": "349cc5ff",
   "metadata": {},
   "source": [
    "You have been hired by Donkey Games, a small games developer in Dundee. They are planning their next release and want to use data to decide what kind of game to make. They have a dataset that contains historical information on the top selling games of all time.\n",
    "\n",
    "They want to understand what types of games sell a lot of copies. In particular they are looking for analysis that helps them decide which direction to take their company in.\n",
    "\n",
    "You’ll need to think carefully about what information is going to be useful to the client."
   ]
  },
  {
   "cell_type": "markdown",
   "id": "dcac0f4e",
   "metadata": {},
   "source": [
    "# Initial Assumptions"
   ]
  },
  {
   "cell_type": "markdown",
   "id": "b244af06",
   "metadata": {},
   "source": [
    "- Shooters have been consistently popular\n",
    "- Resurgence of Metroidvania titles\n",
    "- Rise of survival games\n",
    "- Rise of battle royale games\n",
    "- Popularity of Xbox Game Pass and PlayStation Now\n",
    "- Casual gaming (Wii etc.) not as popular as it once was"
   ]
  },
  {
   "cell_type": "markdown",
   "id": "77728171",
   "metadata": {},
   "source": [
    "# EDA Ideas"
   ]
  },
  {
   "cell_type": "markdown",
   "id": "d2c594f5",
   "metadata": {},
   "source": [
    "- Popularity of game genres over the years (potential for predictive analysis)\n",
    "- Differences between game markets\n",
    "- Difference in sales depending on various factors (potential for modeling)\n",
    "- Which publishers are on the rise\n",
    "- Do scores affect sales\n",
    "- Games with high number of sales might have more competition"
   ]
  },
  {
   "cell_type": "markdown",
   "id": "6d803d85",
   "metadata": {},
   "source": [
    "# Questions for Instructors"
   ]
  },
  {
   "cell_type": "markdown",
   "id": "911e060f",
   "metadata": {},
   "source": [
    "- What year are we considering that it is?\n",
    "- Is Donkey Games made up?"
   ]
  },
  {
   "cell_type": "markdown",
   "id": "6f51bc1f",
   "metadata": {},
   "source": [
    "# Questions for the Client"
   ]
  },
  {
   "cell_type": "markdown",
   "id": "354e015b",
   "metadata": {},
   "source": [
    "- Any further avenues you would want explored?\n",
    "- What prior experience does your team have?\n",
    "- Any restrictions when it comes to platforms?\n",
    "- Any other expectations or conditions?\n",
    "- Size of studio?"
   ]
  },
  {
   "cell_type": "markdown",
   "id": "d6dfdaa4",
   "metadata": {},
   "source": [
    "# Timeline"
   ]
  },
  {
   "cell_type": "markdown",
   "id": "6a1f6ad5",
   "metadata": {},
   "source": [
    "- Monday - EDA & data cleaning\n",
    "- Tuesday - EDA & data cleaning\n",
    "- Wednesday - Data manipulation, plotting & modelling\n",
    "- Thursday - Data manipulation, plotting & modelling\n",
    "- Friday - Data manipulation, plotting & modelling\n",
    "- Saturday - Documentation formatting\n",
    "- Sunday - Presentation slides\n",
    "- Monday - Extension\n",
    "- Tuesday - Extension & presentation timing\n",
    "- Wednesday - Presentation timing & presentation"
   ]
  }
 ],
 "metadata": {
  "kernelspec": {
   "display_name": "Python 3 (ipykernel)",
   "language": "python",
   "name": "python3"
  },
  "language_info": {
   "codemirror_mode": {
    "name": "ipython",
    "version": 3
   },
   "file_extension": ".py",
   "mimetype": "text/x-python",
   "name": "python",
   "nbconvert_exporter": "python",
   "pygments_lexer": "ipython3",
   "version": "3.9.7"
  },
  "varInspector": {
   "cols": {
    "lenName": 16,
    "lenType": 16,
    "lenVar": 40
   },
   "kernels_config": {
    "python": {
     "delete_cmd_postfix": "",
     "delete_cmd_prefix": "del ",
     "library": "var_list.py",
     "varRefreshCmd": "print(var_dic_list())"
    },
    "r": {
     "delete_cmd_postfix": ") ",
     "delete_cmd_prefix": "rm(",
     "library": "var_list.r",
     "varRefreshCmd": "cat(var_dic_list()) "
    }
   },
   "types_to_exclude": [
    "module",
    "function",
    "builtin_function_or_method",
    "instance",
    "_Feature"
   ],
   "window_display": false
  }
 },
 "nbformat": 4,
 "nbformat_minor": 5
}
