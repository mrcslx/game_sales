{
 "cells": [
  {
   "cell_type": "markdown",
   "id": "f63114c6",
   "metadata": {},
   "source": [
    "# Donkey Games -- Game Sales Report"
   ]
  },
  {
   "cell_type": "markdown",
   "id": "78cf393d",
   "metadata": {},
   "source": [
    "## Business context"
   ]
  },
  {
   "cell_type": "markdown",
   "id": "c5b2cf1b",
   "metadata": {},
   "source": [
    "The aim of this report is to assist Donkey Games in deciding what their next game project should be. Many different factors will be taken into consideration, including platform as well as game genre."
   ]
  },
  {
   "cell_type": "markdown",
   "id": "328c933e",
   "metadata": {},
   "source": [
    "## Data"
   ]
  },
  {
   "cell_type": "markdown",
   "id": "6ae6ee2c",
   "metadata": {},
   "source": [
    "### Data source and format"
   ]
  },
  {
   "cell_type": "markdown",
   "id": "ebec3f0b",
   "metadata": {},
   "source": [
    "The data used has been sourced from VGChartz, a video game industry news website with a focus on console and game sales. Four different csv files will be used to complete the report."
   ]
  },
  {
   "cell_type": "markdown",
   "id": "e5a2a6b3",
   "metadata": {},
   "source": [
    "### Data quality and bias"
   ]
  },
  {
   "cell_type": "markdown",
   "id": "8f7cc78b",
   "metadata": {},
   "source": [
    "The data contains records of game sales between the years 1970 and 2019, across many different platforms and game genres. There is a high number of missing values which will need to be addressed, and in terms of bias certain gaming platforms for example are more represented than others. Overall however, there is a lot of data available from which to extract potentially valuable insights."
   ]
  },
  {
   "cell_type": "markdown",
   "id": "1b503867",
   "metadata": {},
   "source": [
    "### Ethical considerations"
   ]
  },
  {
   "cell_type": "markdown",
   "id": "70875d10",
   "metadata": {},
   "source": [
    "The data does not contain anything that could be considered PII (potentially identifiable information). However, there are links to box art within the datasets, so copyright laws might be a valid concern."
   ]
  },
  {
   "cell_type": "markdown",
   "id": "0cef8004",
   "metadata": {},
   "source": [
    "## Modelling"
   ]
  },
  {
   "cell_type": "markdown",
   "id": "61731541",
   "metadata": {},
   "source": [
    "### Methodology"
   ]
  },
  {
   "cell_type": "markdown",
   "id": "a4c59ce6",
   "metadata": {},
   "source": [
    "After an initial data cleaning phase, the resulting joined dataset was used to create an explanatory multiple linear regression model. The aim was to attempt to explain which factors might impact a game's number of global sales. Multiple models were created iteratively, leading to different insights. The models created are available for review in individual notebooks, and the insights extracted are summarised below."
   ]
  },
  {
   "cell_type": "markdown",
   "id": "e7ebeff5",
   "metadata": {},
   "source": [
    "### Insights"
   ]
  },
  {
   "cell_type": "markdown",
   "id": "4343f4f5",
   "metadata": {},
   "source": [
    "The main insights gained through modelling the data available to us are as follow:\n",
    "\n",
    "- European and North American sales are good indicators of global sales performance. If a game performs well in either of those markets, it is likely that it would perform well globally.\n",
    "- Critic scores are a good indicator of how well a game will perform globally. The higher the average critic score, the more copies the game is likely to sell. User scores on the other hand are less correlated to global sales.\n",
    "- The following game genres appear more likely to sell higher numbers of copies globally: action, action-adventure, MMO, RPG, sandbox, shooter.\n",
    "- Unfortunately the models did not lend themselves to determining which publishers or platforms were more likely to have high sales numbers. Perhaps more data sources could be used in the future to help with these predictors.\n",
    "\n",
    "Although the process led to some valuable insights, there is room to build more robust models once more varied data is available."
   ]
  },
  {
   "cell_type": "markdown",
   "id": "82d8318c",
   "metadata": {},
   "source": [
    "## Global overview across all platforms"
   ]
  },
  {
   "cell_type": "markdown",
   "id": "126903ae",
   "metadata": {},
   "source": [
    "### "
   ]
  },
  {
   "cell_type": "markdown",
   "id": "95d994f7",
   "metadata": {},
   "source": [
    "## PC / PlayStation 4 / Xbox One"
   ]
  },
  {
   "cell_type": "markdown",
   "id": "e4fcf8b1",
   "metadata": {},
   "source": [
    "### "
   ]
  },
  {
   "cell_type": "markdown",
   "id": "a6dceb7a",
   "metadata": {},
   "source": [
    "## PC"
   ]
  },
  {
   "cell_type": "markdown",
   "id": "3fe7985e",
   "metadata": {},
   "source": [
    "## PlayStation 4"
   ]
  },
  {
   "cell_type": "markdown",
   "id": "9347d205",
   "metadata": {},
   "source": [
    "## Xbox One"
   ]
  },
  {
   "cell_type": "code",
   "execution_count": null,
   "id": "0c88959d",
   "metadata": {},
   "outputs": [],
   "source": []
  }
 ],
 "metadata": {
  "kernelspec": {
   "display_name": "Python 3 (ipykernel)",
   "language": "python",
   "name": "python3"
  },
  "language_info": {
   "codemirror_mode": {
    "name": "ipython",
    "version": 3
   },
   "file_extension": ".py",
   "mimetype": "text/x-python",
   "name": "python",
   "nbconvert_exporter": "python",
   "pygments_lexer": "ipython3",
   "version": "3.9.7"
  },
  "toc": {
   "base_numbering": 1,
   "nav_menu": {},
   "number_sections": true,
   "sideBar": true,
   "skip_h1_title": true,
   "title_cell": "Table of Contents",
   "title_sidebar": "Contents",
   "toc_cell": false,
   "toc_position": {},
   "toc_section_display": true,
   "toc_window_display": false
  },
  "varInspector": {
   "cols": {
    "lenName": 16,
    "lenType": 16,
    "lenVar": 40
   },
   "kernels_config": {
    "python": {
     "delete_cmd_postfix": "",
     "delete_cmd_prefix": "del ",
     "library": "var_list.py",
     "varRefreshCmd": "print(var_dic_list())"
    },
    "r": {
     "delete_cmd_postfix": ") ",
     "delete_cmd_prefix": "rm(",
     "library": "var_list.r",
     "varRefreshCmd": "cat(var_dic_list()) "
    }
   },
   "types_to_exclude": [
    "module",
    "function",
    "builtin_function_or_method",
    "instance",
    "_Feature"
   ],
   "window_display": false
  }
 },
 "nbformat": 4,
 "nbformat_minor": 5
}
