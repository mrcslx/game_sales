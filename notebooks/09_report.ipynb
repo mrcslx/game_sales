{
 "cells": [
  {
   "cell_type": "markdown",
   "id": "2444d571",
   "metadata": {},
   "source": [
    "# Donkey Games - Game Sales Report"
   ]
  },
  {
   "cell_type": "markdown",
   "id": "2f859026",
   "metadata": {},
   "source": [
    "## Business context"
   ]
  },
  {
   "cell_type": "markdown",
   "id": "e3c9ab92",
   "metadata": {},
   "source": [
    "### Domain knowledge"
   ]
  },
  {
   "cell_type": "markdown",
   "id": "51c9cd18",
   "metadata": {},
   "source": [
    "### Business intelligence"
   ]
  },
  {
   "cell_type": "markdown",
   "id": "e42cb190",
   "metadata": {},
   "source": [
    "## Data"
   ]
  },
  {
   "cell_type": "markdown",
   "id": "e3c9bfca",
   "metadata": {},
   "source": [
    "### Data source and format"
   ]
  },
  {
   "cell_type": "markdown",
   "id": "8dd08c29",
   "metadata": {},
   "source": [
    "### Data quality and bias"
   ]
  },
  {
   "cell_type": "markdown",
   "id": "0eab5c13",
   "metadata": {},
   "source": [
    "### Ethical considerations"
   ]
  },
  {
   "cell_type": "markdown",
   "id": "6a3f5712",
   "metadata": {},
   "source": [
    "## Modelling"
   ]
  },
  {
   "cell_type": "markdown",
   "id": "67c8c076",
   "metadata": {},
   "source": [
    "### Methodology"
   ]
  },
  {
   "cell_type": "markdown",
   "id": "e743b8d4",
   "metadata": {},
   "source": [
    "### Insights"
   ]
  },
  {
   "cell_type": "markdown",
   "id": "fc849705",
   "metadata": {},
   "source": [
    "## Global overview"
   ]
  },
  {
   "cell_type": "markdown",
   "id": "6fa9bbc4",
   "metadata": {},
   "source": [
    "### "
   ]
  },
  {
   "cell_type": "markdown",
   "id": "deb3a7c8",
   "metadata": {},
   "source": [
    "## PC / PlayStation 4 / Xbox One"
   ]
  },
  {
   "cell_type": "markdown",
   "id": "9466844f",
   "metadata": {},
   "source": [
    "### "
   ]
  },
  {
   "cell_type": "markdown",
   "id": "18ce6ab5",
   "metadata": {},
   "source": [
    "### "
   ]
  },
  {
   "cell_type": "markdown",
   "id": "1ae58d06",
   "metadata": {},
   "source": [
    "## PC"
   ]
  },
  {
   "cell_type": "markdown",
   "id": "bd1b7c19",
   "metadata": {},
   "source": [
    "## PlayStation 4"
   ]
  },
  {
   "cell_type": "markdown",
   "id": "148026e3",
   "metadata": {},
   "source": [
    "## Xbox One"
   ]
  }
 ],
 "metadata": {
  "kernelspec": {
   "display_name": "Python 3 (ipykernel)",
   "language": "python",
   "name": "python3"
  },
  "language_info": {
   "codemirror_mode": {
    "name": "ipython",
    "version": 3
   },
   "file_extension": ".py",
   "mimetype": "text/x-python",
   "name": "python",
   "nbconvert_exporter": "python",
   "pygments_lexer": "ipython3",
   "version": "3.9.7"
  },
  "toc": {
   "base_numbering": 1,
   "nav_menu": {},
   "number_sections": true,
   "sideBar": true,
   "skip_h1_title": false,
   "title_cell": "Table of Contents",
   "title_sidebar": "Contents",
   "toc_cell": false,
   "toc_position": {},
   "toc_section_display": true,
   "toc_window_display": false
  },
  "varInspector": {
   "cols": {
    "lenName": 16,
    "lenType": 16,
    "lenVar": 40
   },
   "kernels_config": {
    "python": {
     "delete_cmd_postfix": "",
     "delete_cmd_prefix": "del ",
     "library": "var_list.py",
     "varRefreshCmd": "print(var_dic_list())"
    },
    "r": {
     "delete_cmd_postfix": ") ",
     "delete_cmd_prefix": "rm(",
     "library": "var_list.r",
     "varRefreshCmd": "cat(var_dic_list()) "
    }
   },
   "types_to_exclude": [
    "module",
    "function",
    "builtin_function_or_method",
    "instance",
    "_Feature"
   ],
   "window_display": false
  }
 },
 "nbformat": 4,
 "nbformat_minor": 5
}
