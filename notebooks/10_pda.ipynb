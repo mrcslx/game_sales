{
 "cells": [
  {
   "cell_type": "markdown",
   "id": "9165c5c1",
   "metadata": {},
   "source": [
    "# Final project documentation - PDA"
   ]
  },
  {
   "cell_type": "markdown",
   "id": "e7077092",
   "metadata": {},
   "source": [
    "## Context"
   ]
  },
  {
   "cell_type": "markdown",
   "id": "2f50cc0b",
   "metadata": {},
   "source": [
    "### Business intelligence and data-driven decision making"
   ]
  },
  {
   "cell_type": "markdown",
   "id": "44c94409",
   "metadata": {},
   "source": [
    "The report will allow Donkey Games to better understand what types of games perform well. It will help them decide what kind of game to develop next, and ultimately what direction to take their company in. This will be accomplished through the use of data analysis, modelling, visualisations and an interactive dashboard."
   ]
  },
  {
   "cell_type": "markdown",
   "id": "5bcaa2d1",
   "metadata": {},
   "source": [
    "### Domain knowledge and the business context"
   ]
  },
  {
   "cell_type": "markdown",
   "id": "ad273c04",
   "metadata": {},
   "source": [
    "Donkey Games are a small games developer based in Dundee. They are currently planning their next release. This report will provide them with the necessary insights during their planning phase."
   ]
  },
  {
   "cell_type": "markdown",
   "id": "60241f82",
   "metadata": {},
   "source": [
    "## Data"
   ]
  },
  {
   "cell_type": "markdown",
   "id": "6ae81c72",
   "metadata": {},
   "source": [
    "### Internal and external data sources"
   ]
  },
  {
   "cell_type": "markdown",
   "id": "d0f0cafc",
   "metadata": {},
   "source": [
    "All the data used in the report is external and was originally collected from VGChartz, a website which focuses on video game sales news and reviews."
   ]
  },
  {
   "cell_type": "markdown",
   "id": "99d105c4",
   "metadata": {},
   "source": [
    "### Types of data"
   ]
  },
  {
   "cell_type": "markdown",
   "id": "7c3ede8d",
   "metadata": {},
   "source": []
  },
  {
   "cell_type": "markdown",
   "id": "dd7eadd9",
   "metadata": {},
   "source": [
    "### Data formats"
   ]
  },
  {
   "cell_type": "markdown",
   "id": "aa20a970",
   "metadata": {},
   "source": [
    "The data used came in the form of four CSV files."
   ]
  },
  {
   "cell_type": "markdown",
   "id": "aa928b3f",
   "metadata": {},
   "source": [
    "### Data quality and bias"
   ]
  },
  {
   "cell_type": "markdown",
   "id": "a99089ca",
   "metadata": {},
   "source": [
    "Overall the data quality was good, although there were many missing values to contend with.\n",
    "\n",
    "The following factors could all contribute to bias within the data:\n",
    "- All of the data was from the same source (VGChartz)\n",
    "- There was no demographic breakdown at all in the data\n",
    "- Certain game genres and platforms were more represented than others"
   ]
  },
  {
   "cell_type": "markdown",
   "id": "86443606",
   "metadata": {},
   "source": [
    "## Ethics"
   ]
  },
  {
   "cell_type": "markdown",
   "id": "75e3a325",
   "metadata": {},
   "source": [
    "### Ethical issues in data sourcing and extraction"
   ]
  },
  {
   "cell_type": "markdown",
   "id": "68f464db",
   "metadata": {},
   "source": [
    "### Ethical implications of business requirements"
   ]
  },
  {
   "cell_type": "markdown",
   "id": "90495830",
   "metadata": {},
   "source": [
    "## Analysis"
   ]
  },
  {
   "cell_type": "markdown",
   "id": "96b84a12",
   "metadata": {},
   "source": [
    "### Stages in the data analysis process"
   ]
  },
  {
   "cell_type": "markdown",
   "id": "000162f8",
   "metadata": {},
   "source": [
    "### Tools for data analysis"
   ]
  },
  {
   "cell_type": "markdown",
   "id": "53e9a5e1",
   "metadata": {},
   "source": [
    "### Descriptive, diagnostic, predictive and prescriptive analysis"
   ]
  }
 ],
 "metadata": {
  "hide_input": false,
  "kernelspec": {
   "display_name": "Python 3 (ipykernel)",
   "language": "python",
   "name": "python3"
  },
  "language_info": {
   "codemirror_mode": {
    "name": "ipython",
    "version": 3
   },
   "file_extension": ".py",
   "mimetype": "text/x-python",
   "name": "python",
   "nbconvert_exporter": "python",
   "pygments_lexer": "ipython3",
   "version": "3.9.7"
  },
  "toc": {
   "base_numbering": 1,
   "nav_menu": {},
   "number_sections": true,
   "sideBar": true,
   "skip_h1_title": true,
   "title_cell": "Table of Contents",
   "title_sidebar": "Contents",
   "toc_cell": false,
   "toc_position": {},
   "toc_section_display": true,
   "toc_window_display": false
  },
  "varInspector": {
   "cols": {
    "lenName": 16,
    "lenType": 16,
    "lenVar": 40
   },
   "kernels_config": {
    "python": {
     "delete_cmd_postfix": "",
     "delete_cmd_prefix": "del ",
     "library": "var_list.py",
     "varRefreshCmd": "print(var_dic_list())"
    },
    "r": {
     "delete_cmd_postfix": ") ",
     "delete_cmd_prefix": "rm(",
     "library": "var_list.r",
     "varRefreshCmd": "cat(var_dic_list()) "
    }
   },
   "types_to_exclude": [
    "module",
    "function",
    "builtin_function_or_method",
    "instance",
    "_Feature"
   ],
   "window_display": false
  }
 },
 "nbformat": 4,
 "nbformat_minor": 5
}
