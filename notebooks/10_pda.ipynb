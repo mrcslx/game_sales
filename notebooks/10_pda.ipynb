{
 "cells": [
  {
   "cell_type": "markdown",
   "id": "dcf2818c",
   "metadata": {},
   "source": [
    "# Final project documentation - PDA"
   ]
  },
  {
   "cell_type": "markdown",
   "id": "bf1c4e20",
   "metadata": {},
   "source": [
    "## Context"
   ]
  },
  {
   "cell_type": "markdown",
   "id": "7116fed0",
   "metadata": {},
   "source": [
    "### Business intelligence and data-driven decision making"
   ]
  },
  {
   "cell_type": "markdown",
   "id": "cc00af22",
   "metadata": {},
   "source": [
    "The report will allow Donkey Games to better understand what types of games perform well. It will help them decide what kind of game to develop next, and ultimately what direction to take their company in. This will be accomplished through the use of data analysis, modelling, visualisations and an interactive dashboard."
   ]
  },
  {
   "cell_type": "markdown",
   "id": "efd29157",
   "metadata": {},
   "source": [
    "### Domain knowledge and the business context"
   ]
  },
  {
   "cell_type": "markdown",
   "id": "6c4ac843",
   "metadata": {},
   "source": [
    "Donkey Games are a small games developer based in Dundee. They are currently planning their next release. This report will provide them with the necessary insights during their planning phase."
   ]
  },
  {
   "cell_type": "markdown",
   "id": "7caa6859",
   "metadata": {},
   "source": [
    "## Data"
   ]
  },
  {
   "cell_type": "markdown",
   "id": "918e049b",
   "metadata": {},
   "source": [
    "### Internal and external data sources"
   ]
  },
  {
   "cell_type": "markdown",
   "id": "3eb6253f",
   "metadata": {},
   "source": [
    "All the data used in the report is external and was originally collected from VGChartz, a website which focuses on video game sales news and reviews."
   ]
  },
  {
   "cell_type": "markdown",
   "id": "23ad1456",
   "metadata": {},
   "source": [
    "### Types of data"
   ]
  },
  {
   "cell_type": "markdown",
   "id": "a649cb2c",
   "metadata": {},
   "source": [
    "The data used contained the following types:\n",
    "- object (categorical - text content in this case)\n",
    "- integer (numerical data type - integers, numbers with no decimal point)\n",
    "- float (numerical data type - floating-point numbers which have a decimal place)"
   ]
  },
  {
   "cell_type": "markdown",
   "id": "630926c9",
   "metadata": {},
   "source": [
    "### Data formats"
   ]
  },
  {
   "cell_type": "markdown",
   "id": "e621e261",
   "metadata": {},
   "source": [
    "The data used came in the form of four CSV files."
   ]
  },
  {
   "cell_type": "markdown",
   "id": "61aa08bf",
   "metadata": {},
   "source": [
    "### Data quality and bias"
   ]
  },
  {
   "cell_type": "markdown",
   "id": "35e144d3",
   "metadata": {},
   "source": [
    "Overall the data quality was good, although there were many missing values to contend with.\n",
    "\n",
    "The following factors could all contribute to bias within the data:\n",
    "- All of the data was from the same source (VGChartz)\n",
    "- There was no demographic breakdown at all in the data\n",
    "- Certain game genres and platforms were more represented than others"
   ]
  },
  {
   "cell_type": "markdown",
   "id": "cf131fd2",
   "metadata": {},
   "source": [
    "## Ethics"
   ]
  },
  {
   "cell_type": "markdown",
   "id": "4ed6b017",
   "metadata": {},
   "source": [
    "### Ethical issues in data sourcing and extraction"
   ]
  },
  {
   "cell_type": "markdown",
   "id": "194c45de",
   "metadata": {},
   "source": [
    "There were almost no ethical concerns surrounding the data. It did not contain any personally identifiable information at all. One issue identified was that the data contained links to logos and box art which could raise copyright law concerns if used. That information was removed during data cleaning."
   ]
  },
  {
   "cell_type": "markdown",
   "id": "c264fc9d",
   "metadata": {},
   "source": [
    "### Ethical implications of business requirements"
   ]
  },
  {
   "cell_type": "markdown",
   "id": "fdc93f8b",
   "metadata": {},
   "source": [
    "The business requirements do not raise any ethical concerns."
   ]
  },
  {
   "cell_type": "markdown",
   "id": "9d9f4023",
   "metadata": {},
   "source": [
    "## Analysis"
   ]
  },
  {
   "cell_type": "markdown",
   "id": "b4e7a6de",
   "metadata": {},
   "source": [
    "### Stages in the data analysis process"
   ]
  },
  {
   "cell_type": "markdown",
   "id": "4cc7c1db",
   "metadata": {},
   "source": [
    "The data analysis process was made up of the following stages:\n",
    "- Planning\n",
    "- Data cleaning and wrangling\n",
    "- Data modelling\n",
    "- Plotting and data visualisations\n",
    "- Dashboard building\n",
    "- Report writing"
   ]
  },
  {
   "cell_type": "markdown",
   "id": "508e17e1",
   "metadata": {},
   "source": [
    "### Tools for data analysis"
   ]
  },
  {
   "cell_type": "markdown",
   "id": "e37d17e6",
   "metadata": {},
   "source": [
    "The entire report was written in Python using Jupyter notebooks and the following libraries were used throughout the process:\n",
    "- `Pandas` and `Pyjanitor` for data cleaning and wrangling\n",
    "- `Pandas Profiling`, `Scikit Learn`, `Scipy` and `Statsmodels` for data modelling\n",
    "- `Plotly Express` for data visualisations\n",
    "- `Streamlit` for dashboard building"
   ]
  },
  {
   "cell_type": "markdown",
   "id": "49ddd2e3",
   "metadata": {},
   "source": [
    "### Descriptive, diagnostic, predictive and prescriptive analysis"
   ]
  },
  {
   "cell_type": "markdown",
   "id": "e5a79f18",
   "metadata": {},
   "source": [
    "The following types of analysis are included in the report:\n",
    "- Descriptive - past video game sales trends were analysed\n",
    "- Prescriptive - recommendations provided to influence the client's sales numbers"
   ]
  }
 ],
 "metadata": {
  "hide_input": false,
  "kernelspec": {
   "display_name": "Python 3 (ipykernel)",
   "language": "python",
   "name": "python3"
  },
  "language_info": {
   "codemirror_mode": {
    "name": "ipython",
    "version": 3
   },
   "file_extension": ".py",
   "mimetype": "text/x-python",
   "name": "python",
   "nbconvert_exporter": "python",
   "pygments_lexer": "ipython3",
   "version": "3.9.7"
  },
  "toc": {
   "base_numbering": 1,
   "nav_menu": {},
   "number_sections": true,
   "sideBar": true,
   "skip_h1_title": true,
   "title_cell": "Table of Contents",
   "title_sidebar": "Contents",
   "toc_cell": false,
   "toc_position": {},
   "toc_section_display": true,
   "toc_window_display": false
  },
  "varInspector": {
   "cols": {
    "lenName": 16,
    "lenType": 16,
    "lenVar": 40
   },
   "kernels_config": {
    "python": {
     "delete_cmd_postfix": "",
     "delete_cmd_prefix": "del ",
     "library": "var_list.py",
     "varRefreshCmd": "print(var_dic_list())"
    },
    "r": {
     "delete_cmd_postfix": ") ",
     "delete_cmd_prefix": "rm(",
     "library": "var_list.r",
     "varRefreshCmd": "cat(var_dic_list()) "
    }
   },
   "types_to_exclude": [
    "module",
    "function",
    "builtin_function_or_method",
    "instance",
    "_Feature"
   ],
   "window_display": false
  }
 },
 "nbformat": 4,
 "nbformat_minor": 5
}
