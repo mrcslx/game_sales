{
 "cells": [
  {
   "cell_type": "markdown",
   "id": "6d05e94d",
   "metadata": {},
   "source": [
    "# Final project documentation - PDA"
   ]
  },
  {
   "cell_type": "markdown",
   "id": "69f06eb8",
   "metadata": {},
   "source": [
    "## Context"
   ]
  },
  {
   "cell_type": "markdown",
   "id": "eac4a489",
   "metadata": {},
   "source": [
    "### Business intelligence and data-driven decision making"
   ]
  },
  {
   "cell_type": "markdown",
   "id": "39dc254e",
   "metadata": {},
   "source": [
    "The report will allow Donkey Games to better understand what types of games perform well. It will help them decide what kind of game to develop next, and ultimately what direction to take their company in. This will be accomplished through the use of data analysis, modelling, visualisations and an interactive dashboard."
   ]
  },
  {
   "cell_type": "markdown",
   "id": "08529cb1",
   "metadata": {},
   "source": [
    "### Domain knowledge and the business context"
   ]
  },
  {
   "cell_type": "markdown",
   "id": "f9bc8990",
   "metadata": {},
   "source": [
    "Donkey Games are a small games developer based in Dundee. They are currently planning their next release. This report will provide them with the necessary insights during their planning phase."
   ]
  },
  {
   "cell_type": "markdown",
   "id": "4a678a81",
   "metadata": {},
   "source": [
    "## Data"
   ]
  },
  {
   "cell_type": "markdown",
   "id": "2299da93",
   "metadata": {},
   "source": [
    "### Internal and external data sources"
   ]
  },
  {
   "cell_type": "markdown",
   "id": "aa17016c",
   "metadata": {},
   "source": [
    "All the data used in the report is external and was originally collected from VGChartz, a website which focuses on video game sales news and reviews."
   ]
  },
  {
   "cell_type": "markdown",
   "id": "03b61ce9",
   "metadata": {},
   "source": [
    "### Types of data"
   ]
  },
  {
   "cell_type": "markdown",
   "id": "6e261e0b",
   "metadata": {},
   "source": [
    "Prior to cleaning and wrangling the following data types were present:\n",
    "- object (categorical)\n",
    "- integer (numerical)\n",
    "- float (numerical)"
   ]
  },
  {
   "cell_type": "markdown",
   "id": "ac9daa95",
   "metadata": {},
   "source": [
    "### Data formats"
   ]
  },
  {
   "cell_type": "markdown",
   "id": "a781f63d",
   "metadata": {},
   "source": [
    "The data used came in the form of four CSV files."
   ]
  },
  {
   "cell_type": "markdown",
   "id": "a405135f",
   "metadata": {},
   "source": [
    "### Data quality and bias"
   ]
  },
  {
   "cell_type": "markdown",
   "id": "f4078dd5",
   "metadata": {},
   "source": [
    "Overall the data quality was good, although there were many missing values to contend with.\n",
    "\n",
    "The following factors could all contribute to bias within the data:\n",
    "- All of the data was from the same source (VGChartz)\n",
    "- There was no demographic breakdown at all in the data\n",
    "- Certain game genres and platforms were more represented than others"
   ]
  },
  {
   "cell_type": "markdown",
   "id": "87cdb42b",
   "metadata": {},
   "source": [
    "## Ethics"
   ]
  },
  {
   "cell_type": "markdown",
   "id": "83b372a8",
   "metadata": {},
   "source": [
    "### Ethical issues in data sourcing and extraction"
   ]
  },
  {
   "cell_type": "markdown",
   "id": "dedf8d48",
   "metadata": {},
   "source": [
    "There were almost no ethical concerns surrounding the data. It did not contain any personally identifiable information at all. One issue identified was that the data contained links to logos and box art which could raise copyright law concerns if used. That information was removed during data cleaning."
   ]
  },
  {
   "cell_type": "markdown",
   "id": "4d08eb5e",
   "metadata": {},
   "source": [
    "### Ethical implications of business requirements"
   ]
  },
  {
   "cell_type": "markdown",
   "id": "a48aa960",
   "metadata": {},
   "source": [
    "The business requirements do not raise any ethical concerns."
   ]
  },
  {
   "cell_type": "markdown",
   "id": "c753c1c2",
   "metadata": {},
   "source": [
    "## Analysis"
   ]
  },
  {
   "cell_type": "markdown",
   "id": "f514891d",
   "metadata": {},
   "source": [
    "### Stages in the data analysis process"
   ]
  },
  {
   "cell_type": "markdown",
   "id": "ca43757f",
   "metadata": {},
   "source": [
    "The data analysis process was made up of the following stages:\n",
    "- Planning\n",
    "- Data cleaning and wrangling\n",
    "- Data modelling\n",
    "- Plotting and data visualisations\n",
    "- Dashboard building\n",
    "- Report writing"
   ]
  },
  {
   "cell_type": "markdown",
   "id": "fd8a3b0e",
   "metadata": {},
   "source": [
    "### Tools for data analysis"
   ]
  },
  {
   "cell_type": "markdown",
   "id": "3004d7d4",
   "metadata": {},
   "source": [
    "The entire report was written in Python using Jupyter notebooks and the following libraries were used throughout the process:\n",
    "- `Pandas` and `Pyjanitor` for data cleaning and wrangling\n",
    "- `Pandas Profiling`, `Scikit Learn`, `Scipy` and `Statsmodels` for data modelling\n",
    "- `Plotly Express` for data visualisations\n",
    "- `Streamlit` for dashboard building"
   ]
  },
  {
   "cell_type": "markdown",
   "id": "27d98fd8",
   "metadata": {},
   "source": [
    "### Descriptive, diagnostic, predictive and prescriptive analysis"
   ]
  },
  {
   "cell_type": "markdown",
   "id": "95237a23",
   "metadata": {},
   "source": [
    "The following types of analysis are included in the report:\n",
    "- Descriptive - past video game sales trends were analysed\n",
    "- Prescriptive - recommendations provided to influence the client's sales numbers"
   ]
  }
 ],
 "metadata": {
  "hide_input": false,
  "kernelspec": {
   "display_name": "Python 3 (ipykernel)",
   "language": "python",
   "name": "python3"
  },
  "language_info": {
   "codemirror_mode": {
    "name": "ipython",
    "version": 3
   },
   "file_extension": ".py",
   "mimetype": "text/x-python",
   "name": "python",
   "nbconvert_exporter": "python",
   "pygments_lexer": "ipython3",
   "version": "3.9.7"
  },
  "toc": {
   "base_numbering": 1,
   "nav_menu": {},
   "number_sections": true,
   "sideBar": true,
   "skip_h1_title": true,
   "title_cell": "Table of Contents",
   "title_sidebar": "Contents",
   "toc_cell": false,
   "toc_position": {},
   "toc_section_display": true,
   "toc_window_display": false
  },
  "varInspector": {
   "cols": {
    "lenName": 16,
    "lenType": 16,
    "lenVar": 40
   },
   "kernels_config": {
    "python": {
     "delete_cmd_postfix": "",
     "delete_cmd_prefix": "del ",
     "library": "var_list.py",
     "varRefreshCmd": "print(var_dic_list())"
    },
    "r": {
     "delete_cmd_postfix": ") ",
     "delete_cmd_prefix": "rm(",
     "library": "var_list.r",
     "varRefreshCmd": "cat(var_dic_list()) "
    }
   },
   "types_to_exclude": [
    "module",
    "function",
    "builtin_function_or_method",
    "instance",
    "_Feature"
   ],
   "window_display": false
  }
 },
 "nbformat": 4,
 "nbformat_minor": 5
}
