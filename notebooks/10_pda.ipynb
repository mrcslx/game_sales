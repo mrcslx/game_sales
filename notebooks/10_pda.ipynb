{
 "cells": [
  {
   "cell_type": "markdown",
   "id": "99f2729b",
   "metadata": {},
   "source": [
    "# Final project documentation - PDA"
   ]
  },
  {
   "cell_type": "markdown",
   "id": "f752e366",
   "metadata": {},
   "source": [
    "## Context"
   ]
  },
  {
   "cell_type": "markdown",
   "id": "c38249de",
   "metadata": {},
   "source": [
    "### Business intelligence and data-driven decision making"
   ]
  },
  {
   "cell_type": "markdown",
   "id": "f9d9b045",
   "metadata": {},
   "source": [
    "The report will allow Donkey Games to better understand what types of games perform well. It will help them decide what kind of game to develop next, and ultimately what direction to take their company in. This will be accomplished through the use of data analysis, modelling, visualisations and an interactive dashboard."
   ]
  },
  {
   "cell_type": "markdown",
   "id": "1c1d4354",
   "metadata": {},
   "source": [
    "### Domain knowledge and the business context"
   ]
  },
  {
   "cell_type": "markdown",
   "id": "f385e52d",
   "metadata": {},
   "source": [
    "Donkey Games are a small games developer based in Dundee. They are currently planning their next release. This report will provide them with the necessary insights during their planning phase."
   ]
  },
  {
   "cell_type": "markdown",
   "id": "5f86340d",
   "metadata": {},
   "source": [
    "## Data"
   ]
  },
  {
   "cell_type": "markdown",
   "id": "ef79445c",
   "metadata": {},
   "source": [
    "### Internal and external data sources"
   ]
  },
  {
   "cell_type": "markdown",
   "id": "d694767f",
   "metadata": {},
   "source": [
    "### Types of data"
   ]
  },
  {
   "cell_type": "markdown",
   "id": "2c1913fa",
   "metadata": {},
   "source": [
    "### Data formats"
   ]
  },
  {
   "cell_type": "markdown",
   "id": "98bc82a0",
   "metadata": {},
   "source": [
    "### Data quality and bias"
   ]
  },
  {
   "cell_type": "markdown",
   "id": "2d12a77a",
   "metadata": {},
   "source": [
    "## Ethics"
   ]
  },
  {
   "cell_type": "markdown",
   "id": "ee4fc887",
   "metadata": {},
   "source": [
    "### Ethical issues in data sourcing and extraction"
   ]
  },
  {
   "cell_type": "markdown",
   "id": "5aa23cf4",
   "metadata": {},
   "source": [
    "### Ethical implications of business requirements"
   ]
  },
  {
   "cell_type": "markdown",
   "id": "e7147a93",
   "metadata": {},
   "source": [
    "## Analysis"
   ]
  },
  {
   "cell_type": "markdown",
   "id": "b46bdac8",
   "metadata": {},
   "source": [
    "### Stages in the data analysis process"
   ]
  },
  {
   "cell_type": "markdown",
   "id": "8496cb9c",
   "metadata": {},
   "source": [
    "### Tools for data analysis"
   ]
  },
  {
   "cell_type": "markdown",
   "id": "d478d8b1",
   "metadata": {},
   "source": [
    "### Descriptive, diagnostic, predictive and prescriptive analysis"
   ]
  }
 ],
 "metadata": {
  "hide_input": false,
  "kernelspec": {
   "display_name": "Python 3 (ipykernel)",
   "language": "python",
   "name": "python3"
  },
  "language_info": {
   "codemirror_mode": {
    "name": "ipython",
    "version": 3
   },
   "file_extension": ".py",
   "mimetype": "text/x-python",
   "name": "python",
   "nbconvert_exporter": "python",
   "pygments_lexer": "ipython3",
   "version": "3.9.7"
  },
  "toc": {
   "base_numbering": 1,
   "nav_menu": {},
   "number_sections": true,
   "sideBar": true,
   "skip_h1_title": true,
   "title_cell": "Table of Contents",
   "title_sidebar": "Contents",
   "toc_cell": false,
   "toc_position": {},
   "toc_section_display": true,
   "toc_window_display": false
  },
  "varInspector": {
   "cols": {
    "lenName": 16,
    "lenType": 16,
    "lenVar": 40
   },
   "kernels_config": {
    "python": {
     "delete_cmd_postfix": "",
     "delete_cmd_prefix": "del ",
     "library": "var_list.py",
     "varRefreshCmd": "print(var_dic_list())"
    },
    "r": {
     "delete_cmd_postfix": ") ",
     "delete_cmd_prefix": "rm(",
     "library": "var_list.r",
     "varRefreshCmd": "cat(var_dic_list()) "
    }
   },
   "types_to_exclude": [
    "module",
    "function",
    "builtin_function_or_method",
    "instance",
    "_Feature"
   ],
   "window_display": false
  }
 },
 "nbformat": 4,
 "nbformat_minor": 5
}
