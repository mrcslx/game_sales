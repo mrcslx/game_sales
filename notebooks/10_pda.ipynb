{
 "cells": [
  {
   "cell_type": "markdown",
   "id": "30374f92",
   "metadata": {},
   "source": [
    "# Final project documentation - PDA"
   ]
  },
  {
   "cell_type": "markdown",
   "id": "29728324",
   "metadata": {},
   "source": [
    "## Context"
   ]
  },
  {
   "cell_type": "markdown",
   "id": "c68cb377",
   "metadata": {},
   "source": [
    "### Business intelligence and data-driven decision making"
   ]
  },
  {
   "cell_type": "markdown",
   "id": "c30a0089",
   "metadata": {},
   "source": [
    "The report will allow Donkey Games to better understand what types of games perform well. It will help them decide what kind of game to develop next, and ultimately what direction to take their company in. This will be accomplished through the use of data analysis, modelling, visualisations and an interactive dashboard."
   ]
  },
  {
   "cell_type": "markdown",
   "id": "91c52ba2",
   "metadata": {},
   "source": [
    "### Domain knowledge and the business context"
   ]
  },
  {
   "cell_type": "markdown",
   "id": "3982ac2f",
   "metadata": {},
   "source": [
    "Donkey Games are a small games developer based in Dundee. They are currently planning their next release. This report will provide them with the necessary insights during their planning phase."
   ]
  },
  {
   "cell_type": "markdown",
   "id": "4722a44f",
   "metadata": {},
   "source": [
    "## Data"
   ]
  },
  {
   "cell_type": "markdown",
   "id": "d7672b26",
   "metadata": {},
   "source": [
    "### Internal and external data sources"
   ]
  },
  {
   "cell_type": "markdown",
   "id": "93f0868f",
   "metadata": {},
   "source": [
    "All the data used in the report is external and was originally collected from VGChartz, a website which focuses on video game sales news and reviews."
   ]
  },
  {
   "cell_type": "markdown",
   "id": "3b4fefab",
   "metadata": {},
   "source": [
    "### Types of data"
   ]
  },
  {
   "cell_type": "markdown",
   "id": "af322174",
   "metadata": {},
   "source": [
    "Prior to cleaning and wrangling the following data types were present:\n",
    "- object (categorical)\n",
    "- integer (numerical)\n",
    "- float (numerical)"
   ]
  },
  {
   "cell_type": "markdown",
   "id": "24633785",
   "metadata": {},
   "source": [
    "### Data formats"
   ]
  },
  {
   "cell_type": "markdown",
   "id": "1ad3d660",
   "metadata": {},
   "source": [
    "The data used came in the form of four CSV files."
   ]
  },
  {
   "cell_type": "markdown",
   "id": "4c8989c0",
   "metadata": {},
   "source": [
    "### Data quality and bias"
   ]
  },
  {
   "cell_type": "markdown",
   "id": "5fbc09f9",
   "metadata": {},
   "source": [
    "Overall the data quality was good, although there were many missing values to contend with.\n",
    "\n",
    "The following factors could all contribute to bias within the data:\n",
    "- All of the data was from the same source (VGChartz)\n",
    "- There was no demographic breakdown at all in the data\n",
    "- Certain game genres and platforms were more represented than others"
   ]
  },
  {
   "cell_type": "markdown",
   "id": "d5e4be83",
   "metadata": {},
   "source": [
    "## Ethics"
   ]
  },
  {
   "cell_type": "markdown",
   "id": "b7c6bd24",
   "metadata": {},
   "source": [
    "### Ethical issues in data sourcing and extraction"
   ]
  },
  {
   "cell_type": "markdown",
   "id": "0425ad56",
   "metadata": {},
   "source": [
    "### Ethical implications of business requirements"
   ]
  },
  {
   "cell_type": "markdown",
   "id": "b952214f",
   "metadata": {},
   "source": [
    "## Analysis"
   ]
  },
  {
   "cell_type": "markdown",
   "id": "cec68a93",
   "metadata": {},
   "source": [
    "### Stages in the data analysis process"
   ]
  },
  {
   "cell_type": "markdown",
   "id": "0db304bc",
   "metadata": {},
   "source": [
    "### Tools for data analysis"
   ]
  },
  {
   "cell_type": "markdown",
   "id": "a485938c",
   "metadata": {},
   "source": [
    "### Descriptive, diagnostic, predictive and prescriptive analysis"
   ]
  }
 ],
 "metadata": {
  "hide_input": false,
  "kernelspec": {
   "display_name": "Python 3 (ipykernel)",
   "language": "python",
   "name": "python3"
  },
  "language_info": {
   "codemirror_mode": {
    "name": "ipython",
    "version": 3
   },
   "file_extension": ".py",
   "mimetype": "text/x-python",
   "name": "python",
   "nbconvert_exporter": "python",
   "pygments_lexer": "ipython3",
   "version": "3.9.7"
  },
  "toc": {
   "base_numbering": 1,
   "nav_menu": {},
   "number_sections": true,
   "sideBar": true,
   "skip_h1_title": true,
   "title_cell": "Table of Contents",
   "title_sidebar": "Contents",
   "toc_cell": false,
   "toc_position": {},
   "toc_section_display": true,
   "toc_window_display": false
  },
  "varInspector": {
   "cols": {
    "lenName": 16,
    "lenType": 16,
    "lenVar": 40
   },
   "kernels_config": {
    "python": {
     "delete_cmd_postfix": "",
     "delete_cmd_prefix": "del ",
     "library": "var_list.py",
     "varRefreshCmd": "print(var_dic_list())"
    },
    "r": {
     "delete_cmd_postfix": ") ",
     "delete_cmd_prefix": "rm(",
     "library": "var_list.r",
     "varRefreshCmd": "cat(var_dic_list()) "
    }
   },
   "types_to_exclude": [
    "module",
    "function",
    "builtin_function_or_method",
    "instance",
    "_Feature"
   ],
   "window_display": false
  }
 },
 "nbformat": 4,
 "nbformat_minor": 5
}
