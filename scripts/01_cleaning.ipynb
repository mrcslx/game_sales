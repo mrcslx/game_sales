{
 "cells": [
  {
   "cell_type": "code",
   "execution_count": 1,
   "id": "6c0ff9af",
   "metadata": {},
   "outputs": [],
   "source": [
    "import pandas as pd\n",
    "import numpy as np\n",
    "from janitor import clean_names\n",
    "from pyprojroot import here"
   ]
  },
  {
   "cell_type": "code",
   "execution_count": 2,
   "id": "8f280a36",
   "metadata": {},
   "outputs": [],
   "source": [
    "sales_2019 = pd.read_csv(here(\"./raw_data/sales-2019.csv\")).clean_names()\n",
    "sales_2016 = pd.read_csv(here(\"./raw_data/sales-2016-with-ratings.csv\")).clean_names()"
   ]
  },
  {
   "cell_type": "code",
   "execution_count": 3,
   "id": "a305fd27",
   "metadata": {},
   "outputs": [],
   "source": [
    "# drop columns we won't be needing\n",
    "sales_2019.drop(['basename', 'vgchartz_score', 'critic_score', 'user_score', 'last_update', 'url', 'status', \\\n",
    "                 'vgchartzscore', 'img_url'], axis=1, inplace=True)"
   ]
  },
  {
   "cell_type": "code",
   "execution_count": 4,
   "id": "ae4398b8",
   "metadata": {},
   "outputs": [
    {
     "data": {
      "text/plain": [
       "rank                 0\n",
       "name                 0\n",
       "genre                0\n",
       "esrb_rating      32169\n",
       "platform             0\n",
       "publisher            0\n",
       "developer           17\n",
       "total_shipped    53965\n",
       "global_sales     36377\n",
       "na_sales         42828\n",
       "pal_sales        42603\n",
       "jp_sales         48749\n",
       "other_sales      40270\n",
       "year               979\n",
       "dtype: int64"
      ]
     },
     "execution_count": 4,
     "metadata": {},
     "output_type": "execute_result"
    }
   ],
   "source": [
    "sales_2019.isna().sum()"
   ]
  },
  {
   "cell_type": "code",
   "execution_count": 5,
   "id": "79c8af05",
   "metadata": {},
   "outputs": [],
   "source": [
    "# replace NAs in global_sales with corresponding value from total_shipped\n",
    "sales_2019['global_sales'] = sales_2019['global_sales'].fillna(sales_2019.pop('total_shipped'))"
   ]
  },
  {
   "cell_type": "code",
   "execution_count": 6,
   "id": "21cca4c4",
   "metadata": {
    "scrolled": true
   },
   "outputs": [
    {
     "data": {
      "text/plain": [
       "rank              int64\n",
       "name             object\n",
       "genre            object\n",
       "esrb_rating      object\n",
       "platform         object\n",
       "publisher        object\n",
       "developer        object\n",
       "global_sales    float64\n",
       "na_sales        float64\n",
       "pal_sales       float64\n",
       "jp_sales        float64\n",
       "other_sales     float64\n",
       "year            float64\n",
       "dtype: object"
      ]
     },
     "execution_count": 6,
     "metadata": {},
     "output_type": "execute_result"
    }
   ],
   "source": [
    "sales_2019.dtypes"
   ]
  },
  {
   "cell_type": "code",
   "execution_count": 7,
   "id": "2cf2c175",
   "metadata": {},
   "outputs": [],
   "source": [
    "# replace NAs in year column with 0\n",
    "sales_2019['year'] = sales_2019['year'].fillna(0)"
   ]
  },
  {
   "cell_type": "code",
   "execution_count": 8,
   "id": "2c5885a0",
   "metadata": {},
   "outputs": [],
   "source": [
    "# convert year column from float to integer\n",
    "sales_2019[\"year\"] = sales_2019[\"year\"].astype(int)"
   ]
  },
  {
   "cell_type": "code",
   "execution_count": 9,
   "id": "a3ad5551",
   "metadata": {},
   "outputs": [
    {
     "data": {
      "text/plain": [
       "Index(['global_sales', 'na_sales', 'pal_sales', 'jp_sales', 'other_sales'], dtype='object')"
      ]
     },
     "execution_count": 9,
     "metadata": {},
     "output_type": "execute_result"
    }
   ],
   "source": [
    "sales_2019.columns[7:12]"
   ]
  },
  {
   "cell_type": "code",
   "execution_count": 10,
   "id": "50531451",
   "metadata": {},
   "outputs": [],
   "source": [
    "# drop all rows where global_sales through other_sales are all NaN\n",
    "sales_2019.dropna(subset=sales_2019.columns[7:12], how='all', inplace=True)"
   ]
  },
  {
   "cell_type": "code",
   "execution_count": 11,
   "id": "cc78d3b0",
   "metadata": {},
   "outputs": [
    {
     "data": {
      "text/html": [
       "<div>\n",
       "<style scoped>\n",
       "    .dataframe tbody tr th:only-of-type {\n",
       "        vertical-align: middle;\n",
       "    }\n",
       "\n",
       "    .dataframe tbody tr th {\n",
       "        vertical-align: top;\n",
       "    }\n",
       "\n",
       "    .dataframe thead th {\n",
       "        text-align: right;\n",
       "    }\n",
       "</style>\n",
       "<table border=\"1\" class=\"dataframe\">\n",
       "  <thead>\n",
       "    <tr style=\"text-align: right;\">\n",
       "      <th></th>\n",
       "      <th>rank</th>\n",
       "      <th>name</th>\n",
       "      <th>genre</th>\n",
       "      <th>esrb_rating</th>\n",
       "      <th>platform</th>\n",
       "      <th>publisher</th>\n",
       "      <th>developer</th>\n",
       "      <th>global_sales</th>\n",
       "      <th>na_sales</th>\n",
       "      <th>pal_sales</th>\n",
       "      <th>jp_sales</th>\n",
       "      <th>other_sales</th>\n",
       "      <th>year</th>\n",
       "    </tr>\n",
       "  </thead>\n",
       "  <tbody>\n",
       "    <tr>\n",
       "      <th>0</th>\n",
       "      <td>1</td>\n",
       "      <td>Wii Sports</td>\n",
       "      <td>Sports</td>\n",
       "      <td>E</td>\n",
       "      <td>Wii</td>\n",
       "      <td>Nintendo</td>\n",
       "      <td>Nintendo EAD</td>\n",
       "      <td>82.86</td>\n",
       "      <td>NaN</td>\n",
       "      <td>NaN</td>\n",
       "      <td>NaN</td>\n",
       "      <td>NaN</td>\n",
       "      <td>2006</td>\n",
       "    </tr>\n",
       "    <tr>\n",
       "      <th>1</th>\n",
       "      <td>2</td>\n",
       "      <td>Super Mario Bros.</td>\n",
       "      <td>Platform</td>\n",
       "      <td>NaN</td>\n",
       "      <td>NES</td>\n",
       "      <td>Nintendo</td>\n",
       "      <td>Nintendo EAD</td>\n",
       "      <td>40.24</td>\n",
       "      <td>NaN</td>\n",
       "      <td>NaN</td>\n",
       "      <td>NaN</td>\n",
       "      <td>NaN</td>\n",
       "      <td>1985</td>\n",
       "    </tr>\n",
       "    <tr>\n",
       "      <th>2</th>\n",
       "      <td>3</td>\n",
       "      <td>Mario Kart Wii</td>\n",
       "      <td>Racing</td>\n",
       "      <td>E</td>\n",
       "      <td>Wii</td>\n",
       "      <td>Nintendo</td>\n",
       "      <td>Nintendo EAD</td>\n",
       "      <td>37.14</td>\n",
       "      <td>NaN</td>\n",
       "      <td>NaN</td>\n",
       "      <td>NaN</td>\n",
       "      <td>NaN</td>\n",
       "      <td>2008</td>\n",
       "    </tr>\n",
       "    <tr>\n",
       "      <th>3</th>\n",
       "      <td>4</td>\n",
       "      <td>PlayerUnknown's Battlegrounds</td>\n",
       "      <td>Shooter</td>\n",
       "      <td>NaN</td>\n",
       "      <td>PC</td>\n",
       "      <td>PUBG Corporation</td>\n",
       "      <td>PUBG Corporation</td>\n",
       "      <td>36.60</td>\n",
       "      <td>NaN</td>\n",
       "      <td>NaN</td>\n",
       "      <td>NaN</td>\n",
       "      <td>NaN</td>\n",
       "      <td>2017</td>\n",
       "    </tr>\n",
       "    <tr>\n",
       "      <th>4</th>\n",
       "      <td>5</td>\n",
       "      <td>Wii Sports Resort</td>\n",
       "      <td>Sports</td>\n",
       "      <td>E</td>\n",
       "      <td>Wii</td>\n",
       "      <td>Nintendo</td>\n",
       "      <td>Nintendo EAD</td>\n",
       "      <td>33.09</td>\n",
       "      <td>NaN</td>\n",
       "      <td>NaN</td>\n",
       "      <td>NaN</td>\n",
       "      <td>NaN</td>\n",
       "      <td>2009</td>\n",
       "    </tr>\n",
       "    <tr>\n",
       "      <th>...</th>\n",
       "      <td>...</td>\n",
       "      <td>...</td>\n",
       "      <td>...</td>\n",
       "      <td>...</td>\n",
       "      <td>...</td>\n",
       "      <td>...</td>\n",
       "      <td>...</td>\n",
       "      <td>...</td>\n",
       "      <td>...</td>\n",
       "      <td>...</td>\n",
       "      <td>...</td>\n",
       "      <td>...</td>\n",
       "      <td>...</td>\n",
       "    </tr>\n",
       "    <tr>\n",
       "      <th>12637</th>\n",
       "      <td>12638</td>\n",
       "      <td>Slime Rancher</td>\n",
       "      <td>Simulation</td>\n",
       "      <td>E10</td>\n",
       "      <td>XOne</td>\n",
       "      <td>Skybound Games</td>\n",
       "      <td>Monomi Park</td>\n",
       "      <td>0.10</td>\n",
       "      <td>0.08</td>\n",
       "      <td>NaN</td>\n",
       "      <td>NaN</td>\n",
       "      <td>0.01</td>\n",
       "      <td>2018</td>\n",
       "    </tr>\n",
       "    <tr>\n",
       "      <th>12638</th>\n",
       "      <td>12639</td>\n",
       "      <td>thinkSMART</td>\n",
       "      <td>Misc</td>\n",
       "      <td>E</td>\n",
       "      <td>DS</td>\n",
       "      <td>Conspiracy Entertainment</td>\n",
       "      <td>Conspiracy Entertainment</td>\n",
       "      <td>0.10</td>\n",
       "      <td>0.09</td>\n",
       "      <td>NaN</td>\n",
       "      <td>NaN</td>\n",
       "      <td>0.01</td>\n",
       "      <td>2010</td>\n",
       "    </tr>\n",
       "    <tr>\n",
       "      <th>12639</th>\n",
       "      <td>12640</td>\n",
       "      <td>Disney Planes Fire &amp; Rescue</td>\n",
       "      <td>Action</td>\n",
       "      <td>E</td>\n",
       "      <td>3DS</td>\n",
       "      <td>Disney Interactive Studios</td>\n",
       "      <td>Little Orbit</td>\n",
       "      <td>0.10</td>\n",
       "      <td>0.01</td>\n",
       "      <td>0.08</td>\n",
       "      <td>NaN</td>\n",
       "      <td>0.01</td>\n",
       "      <td>2014</td>\n",
       "    </tr>\n",
       "    <tr>\n",
       "      <th>12640</th>\n",
       "      <td>12641</td>\n",
       "      <td>Lost Dimension</td>\n",
       "      <td>Role-Playing</td>\n",
       "      <td>T</td>\n",
       "      <td>PSV</td>\n",
       "      <td>Atlus</td>\n",
       "      <td>Lancarse</td>\n",
       "      <td>0.10</td>\n",
       "      <td>0.04</td>\n",
       "      <td>0.02</td>\n",
       "      <td>0.02</td>\n",
       "      <td>0.02</td>\n",
       "      <td>2015</td>\n",
       "    </tr>\n",
       "    <tr>\n",
       "      <th>12641</th>\n",
       "      <td>12642</td>\n",
       "      <td>Kung Fu Panda 2</td>\n",
       "      <td>Action</td>\n",
       "      <td>E10</td>\n",
       "      <td>PS3</td>\n",
       "      <td>THQ</td>\n",
       "      <td>THQ</td>\n",
       "      <td>0.10</td>\n",
       "      <td>0.04</td>\n",
       "      <td>0.04</td>\n",
       "      <td>NaN</td>\n",
       "      <td>0.01</td>\n",
       "      <td>2011</td>\n",
       "    </tr>\n",
       "  </tbody>\n",
       "</table>\n",
       "<p>12642 rows × 13 columns</p>\n",
       "</div>"
      ],
      "text/plain": [
       "        rank                           name         genre esrb_rating  \\\n",
       "0          1                     Wii Sports        Sports           E   \n",
       "1          2              Super Mario Bros.      Platform         NaN   \n",
       "2          3                 Mario Kart Wii        Racing           E   \n",
       "3          4  PlayerUnknown's Battlegrounds       Shooter         NaN   \n",
       "4          5              Wii Sports Resort        Sports           E   \n",
       "...      ...                            ...           ...         ...   \n",
       "12637  12638                  Slime Rancher    Simulation         E10   \n",
       "12638  12639                     thinkSMART          Misc           E   \n",
       "12639  12640    Disney Planes Fire & Rescue        Action           E   \n",
       "12640  12641                 Lost Dimension  Role-Playing           T   \n",
       "12641  12642                Kung Fu Panda 2        Action         E10   \n",
       "\n",
       "      platform                   publisher                 developer  \\\n",
       "0          Wii                    Nintendo              Nintendo EAD   \n",
       "1          NES                    Nintendo              Nintendo EAD   \n",
       "2          Wii                    Nintendo              Nintendo EAD   \n",
       "3           PC            PUBG Corporation          PUBG Corporation   \n",
       "4          Wii                    Nintendo              Nintendo EAD   \n",
       "...        ...                         ...                       ...   \n",
       "12637     XOne              Skybound Games               Monomi Park   \n",
       "12638       DS    Conspiracy Entertainment  Conspiracy Entertainment   \n",
       "12639      3DS  Disney Interactive Studios              Little Orbit   \n",
       "12640      PSV                       Atlus                  Lancarse   \n",
       "12641      PS3                         THQ                       THQ   \n",
       "\n",
       "       global_sales  na_sales  pal_sales  jp_sales  other_sales  year  \n",
       "0             82.86       NaN        NaN       NaN          NaN  2006  \n",
       "1             40.24       NaN        NaN       NaN          NaN  1985  \n",
       "2             37.14       NaN        NaN       NaN          NaN  2008  \n",
       "3             36.60       NaN        NaN       NaN          NaN  2017  \n",
       "4             33.09       NaN        NaN       NaN          NaN  2009  \n",
       "...             ...       ...        ...       ...          ...   ...  \n",
       "12637          0.10      0.08        NaN       NaN         0.01  2018  \n",
       "12638          0.10      0.09        NaN       NaN         0.01  2010  \n",
       "12639          0.10      0.01       0.08       NaN         0.01  2014  \n",
       "12640          0.10      0.04       0.02      0.02         0.02  2015  \n",
       "12641          0.10      0.04       0.04       NaN         0.01  2011  \n",
       "\n",
       "[12642 rows x 13 columns]"
      ]
     },
     "execution_count": 11,
     "metadata": {},
     "output_type": "execute_result"
    }
   ],
   "source": [
    "sales_2019.loc[sales_2019[\"global_sales\"] >= 0.1]"
   ]
  },
  {
   "cell_type": "code",
   "execution_count": 12,
   "id": "266e6b7a",
   "metadata": {},
   "outputs": [
    {
     "data": {
      "text/plain": [
       "array(['Wii', 'NES', 'PC', 'GB', 'DS', 'X360', 'SNES', 'PS3', 'PS4',\n",
       "       '3DS', 'PS2', 'GBA', 'NS', 'GEN', 'N64', 'PS', 'XOne', 'WiiU',\n",
       "       'XB', 'PSP', '2600', 'GC', 'GBC', 'PSN', 'PSV', 'DC', 'SAT', 'SCD',\n",
       "       'WS', 'XBL', 'Amig', 'VC', 'NG', 'WW', 'PCE', '3DO', 'GG', 'OSX',\n",
       "       'PCFX', 'Mob'], dtype=object)"
      ]
     },
     "execution_count": 12,
     "metadata": {},
     "output_type": "execute_result"
    }
   ],
   "source": [
    "sales_2019.platform.unique()"
   ]
  },
  {
   "cell_type": "code",
   "execution_count": 13,
   "id": "ab1cbeff",
   "metadata": {},
   "outputs": [
    {
     "data": {
      "text/plain": [
       "platform\n",
       "2600     133\n",
       "3DO        4\n",
       "3DS      646\n",
       "Amig       1\n",
       "DC        52\n",
       "DS      2511\n",
       "GB        94\n",
       "GBA      937\n",
       "GBC        9\n",
       "GC       564\n",
       "GEN       31\n",
       "GG         1\n",
       "Mob        4\n",
       "N64      322\n",
       "NES      103\n",
       "NG        12\n",
       "NS       298\n",
       "OSX        1\n",
       "PC      2785\n",
       "PCE        2\n",
       "PCFX       1\n",
       "PS      1211\n",
       "PS2     2247\n",
       "PS3     1411\n",
       "PS4      957\n",
       "PSN       16\n",
       "PSP     1401\n",
       "PSV      687\n",
       "SAT      175\n",
       "SCD        6\n",
       "SNES     242\n",
       "VC         6\n",
       "WS         7\n",
       "WW         3\n",
       "Wii     1437\n",
       "WiiU     170\n",
       "X360    1349\n",
       "XB       850\n",
       "XBL       10\n",
       "XOne     546\n",
       "dtype: int64"
      ]
     },
     "execution_count": 13,
     "metadata": {},
     "output_type": "execute_result"
    }
   ],
   "source": [
    "sales_2019.groupby(['platform']).size()"
   ]
  },
  {
   "cell_type": "code",
   "execution_count": null,
   "id": "a2c053ea",
   "metadata": {},
   "outputs": [],
   "source": []
  },
  {
   "cell_type": "code",
   "execution_count": 14,
   "id": "ac30793d",
   "metadata": {},
   "outputs": [],
   "source": [
    "# replace NAs in year column with 0\n",
    "sales_2016['year_of_release'] = sales_2016['year_of_release'].fillna(0)"
   ]
  },
  {
   "cell_type": "code",
   "execution_count": 15,
   "id": "ad5fe284",
   "metadata": {},
   "outputs": [],
   "source": [
    "# convert year_of_release column from float to integer\n",
    "sales_2016[\"year_of_release\"] = sales_2016[\"year_of_release\"].astype(int)"
   ]
  },
  {
   "cell_type": "code",
   "execution_count": 16,
   "id": "96a733b3",
   "metadata": {},
   "outputs": [
    {
     "data": {
      "text/plain": [
       "Index(['critic_score', 'critic_count', 'user_score', 'user_count'], dtype='object')"
      ]
     },
     "execution_count": 16,
     "metadata": {},
     "output_type": "execute_result"
    }
   ],
   "source": [
    "sales_2016.columns[10:14]"
   ]
  },
  {
   "cell_type": "code",
   "execution_count": 17,
   "id": "8e953e5d",
   "metadata": {},
   "outputs": [],
   "source": [
    "# drop all rows where critic_score through user_count are all NaN\n",
    "sales_2016.dropna(subset=sales_2016.columns[10:14], how='all', inplace=True)"
   ]
  },
  {
   "cell_type": "code",
   "execution_count": 18,
   "id": "e6da42fe",
   "metadata": {},
   "outputs": [],
   "source": [
    "# drop columns we won't be needing\n",
    "sales_2016 = sales_2016.loc[:, ['name', 'platform', 'critic_score', 'user_score']]"
   ]
  },
  {
   "cell_type": "code",
   "execution_count": 19,
   "id": "648caf60",
   "metadata": {},
   "outputs": [
    {
     "data": {
      "text/plain": [
       "Index(['name', 'platform', 'critic_score', 'user_score'], dtype='object')"
      ]
     },
     "execution_count": 19,
     "metadata": {},
     "output_type": "execute_result"
    }
   ],
   "source": [
    "sales_2016.columns"
   ]
  },
  {
   "cell_type": "code",
   "execution_count": 20,
   "id": "cc9a9578",
   "metadata": {},
   "outputs": [],
   "source": [
    "# convert user_score from object to float in order to turn all \"tbd\" into NaN\n",
    "sales_2016['user_score'] = pd.to_numeric(sales_2016['user_score'],errors = 'coerce')"
   ]
  },
  {
   "cell_type": "code",
   "execution_count": 21,
   "id": "a8735647",
   "metadata": {},
   "outputs": [
    {
     "data": {
      "text/plain": [
       "Index(['critic_score', 'user_score'], dtype='object')"
      ]
     },
     "execution_count": 21,
     "metadata": {},
     "output_type": "execute_result"
    }
   ],
   "source": [
    "sales_2016.columns[2:4]"
   ]
  },
  {
   "cell_type": "code",
   "execution_count": 22,
   "id": "8bfc055d",
   "metadata": {},
   "outputs": [],
   "source": [
    "# drop all rows where both critic_score and user_score are NaN\n",
    "sales_2016.dropna(subset=sales_2016.columns[2:4], how='all', inplace=True)"
   ]
  },
  {
   "cell_type": "code",
   "execution_count": 23,
   "id": "defa107c",
   "metadata": {},
   "outputs": [],
   "source": [
    "# create joined dataset with ratings from sales_2016\n",
    "sales_joined = sales_2019.merge(sales_2016, how='left', on=['name', 'platform'])"
   ]
  },
  {
   "cell_type": "code",
   "execution_count": 24,
   "id": "001773d9",
   "metadata": {},
   "outputs": [
    {
     "data": {
      "text/plain": [
       "platform\n",
       "2600     133\n",
       "3DO        4\n",
       "3DS      646\n",
       "Amig       1\n",
       "DC        52\n",
       "DS      2511\n",
       "GB        94\n",
       "GBA      937\n",
       "GBC        9\n",
       "GC       564\n",
       "GEN       31\n",
       "GG         1\n",
       "Mob        4\n",
       "N64      322\n",
       "NES      103\n",
       "NG        12\n",
       "NS       298\n",
       "OSX        1\n",
       "PC      2786\n",
       "PCE        2\n",
       "PCFX       1\n",
       "PS      1211\n",
       "PS2     2247\n",
       "PS3     1412\n",
       "PS4      957\n",
       "PSN       16\n",
       "PSP     1401\n",
       "PSV      687\n",
       "SAT      175\n",
       "SCD        6\n",
       "SNES     242\n",
       "VC         6\n",
       "WS         7\n",
       "WW         3\n",
       "Wii     1437\n",
       "WiiU     170\n",
       "X360    1350\n",
       "XB       850\n",
       "XBL       10\n",
       "XOne     546\n",
       "dtype: int64"
      ]
     },
     "execution_count": 24,
     "metadata": {},
     "output_type": "execute_result"
    }
   ],
   "source": [
    "sales_joined.groupby(['platform']).size()"
   ]
  },
  {
   "cell_type": "code",
   "execution_count": 25,
   "id": "7f23f6fb",
   "metadata": {},
   "outputs": [],
   "source": [
    "# remove irrelevant platforms\n",
    "sales_joined = sales_joined.apply(lambda row: row[~sales_joined['platform']\n",
    "                                                  .isin(['3DO','Amig', 'GG', 'Mob', \\\n",
    "                                                         'OSX', 'PCE', 'PCFX', 'SCD', 'VC', 'WS', 'WW'])])"
   ]
  },
  {
   "cell_type": "code",
   "execution_count": 26,
   "id": "58698c24",
   "metadata": {},
   "outputs": [],
   "source": [
    "# rename platforms for clarity\n",
    "sales_joined[\"platform\"].replace({\"2600\": \"Atari 2600\", \"3DS\": \"Nintendo 3DS\", \"DS\": \"Nintendo DS\", \\\n",
    "                                  \"DC\": \"Sega Dreamcast\", \"GB\": \"Game Boy\", \"GBA\": \"Game Boy Advance\", \\\n",
    "                                  \"GBC\": \"Game Boy Color\", \"GC\": \"GameCube\", \"GEN\": \"Sega Genesis\", \\\n",
    "                                  \"N64\": \"Nintendo 64\", \"NG\": \"Neo Geo\", \"NS\": \"Nintendo Switch\", \\\n",
    "                                  \"PS\": \"PlayStation\", \"PS2\": \"PlayStation 2\", \"PS3\": \"PlayStation 3\", \\\n",
    "                                  \"PS4\": \"PlayStation 4\", \"PSN\": \"PlayStation Network\", \\\n",
    "                                  \"PSP\": \"PlayStation Portable\", \"PSV\": \"PlayStation Vita\", \\\n",
    "                                  \"SAT\": \"Sega Saturn\", \"Wii\": \"Nintendo Wii\", \"WiiU\": \"Nintendo Wii U\", \\\n",
    "                                  \"X360\": \"Xbox 360\", \"XB\": \"Xbox\", \"XBL\": \"Xbox Live\", \"XOne\": \"Xbox One\"}, \\\n",
    "                                 inplace=True)"
   ]
  },
  {
   "cell_type": "code",
   "execution_count": 27,
   "id": "d5b4c3b9",
   "metadata": {},
   "outputs": [
    {
     "data": {
      "text/plain": [
       "platform\n",
       "Atari 2600               133\n",
       "Game Boy                  94\n",
       "Game Boy Advance         937\n",
       "Game Boy Color             9\n",
       "GameCube                 564\n",
       "NES                      103\n",
       "Neo Geo                   12\n",
       "Nintendo 3DS             646\n",
       "Nintendo 64              322\n",
       "Nintendo DS             2511\n",
       "Nintendo Switch          298\n",
       "Nintendo Wii            1437\n",
       "Nintendo Wii U           170\n",
       "PC                      2786\n",
       "PlayStation             1211\n",
       "PlayStation 2           2247\n",
       "PlayStation 3           1412\n",
       "PlayStation 4            957\n",
       "PlayStation Network       16\n",
       "PlayStation Portable    1401\n",
       "PlayStation Vita         687\n",
       "SNES                     242\n",
       "Sega Dreamcast            52\n",
       "Sega Genesis              31\n",
       "Sega Saturn              175\n",
       "Xbox                     850\n",
       "Xbox 360                1350\n",
       "Xbox Live                 10\n",
       "Xbox One                 546\n",
       "dtype: int64"
      ]
     },
     "execution_count": 27,
     "metadata": {},
     "output_type": "execute_result"
    }
   ],
   "source": [
    "sales_joined.groupby(['platform']).size()"
   ]
  },
  {
   "cell_type": "code",
   "execution_count": 28,
   "id": "3b5afcbf",
   "metadata": {},
   "outputs": [],
   "source": [
    "# remove games with no recorded sales\n",
    "sales_joined = sales_joined.loc[sales_joined[\"global_sales\"] > 0]"
   ]
  },
  {
   "cell_type": "code",
   "execution_count": 29,
   "id": "8f41ddfa",
   "metadata": {},
   "outputs": [],
   "source": [
    "# create new variable for plotting (jp: joined/plotting)\n",
    "sales_jp = sales_joined.copy()"
   ]
  },
  {
   "cell_type": "code",
   "execution_count": 30,
   "id": "ab5d7b21",
   "metadata": {
    "scrolled": false
   },
   "outputs": [],
   "source": [
    "# remove certain games that were bundled with consoles\n",
    "sales_jp = sales_jp.loc[sales_jp[\"name\"] != \"Wii Sports\"]\n",
    "sales_jp = sales_jp.loc[sales_jp[\"name\"] != \"Super Mario Bros.\"]\n",
    "sales_jp = sales_jp.loc[sales_jp[\"name\"] != \"Duck Hunt\"]\n",
    "sales_jp = sales_jp.loc[sales_jp[\"name\"] != \"Kinect Adventures!\"]"
   ]
  },
  {
   "cell_type": "code",
   "execution_count": 31,
   "id": "45f07921",
   "metadata": {},
   "outputs": [],
   "source": [
    "# remove three rows where year is 0\n",
    "sales_jp = sales_jp.loc[sales_jp[\"year\"] != 0]"
   ]
  },
  {
   "cell_type": "code",
   "execution_count": 32,
   "id": "59ed53a9",
   "metadata": {},
   "outputs": [],
   "source": [
    "# restrict year range\n",
    "sales_jp = sales_jp.loc[sales_jp[\"year\"] <= 2018]\n",
    "sales_jp = sales_jp.loc[sales_jp[\"year\"] >= 1985]"
   ]
  },
  {
   "cell_type": "code",
   "execution_count": null,
   "id": "e944963d",
   "metadata": {},
   "outputs": [],
   "source": []
  },
  {
   "cell_type": "code",
   "execution_count": 33,
   "id": "dd26cc51",
   "metadata": {},
   "outputs": [],
   "source": [
    "# create PC/PS4/XONE variable\n",
    "sales_ppx = sales_jp.loc[sales_jp[\"platform\"].isin([\"PC\", \"PlayStation 4\", \"Xbox One\"])].copy()"
   ]
  },
  {
   "cell_type": "code",
   "execution_count": null,
   "id": "b577650c",
   "metadata": {},
   "outputs": [],
   "source": []
  },
  {
   "cell_type": "code",
   "execution_count": 34,
   "id": "eff6048c",
   "metadata": {},
   "outputs": [],
   "source": [
    "# create PC variable\n",
    "sales_pc = sales_jp.loc[sales_jp[\"platform\"] == \"PC\"].copy()"
   ]
  },
  {
   "cell_type": "code",
   "execution_count": 35,
   "id": "21573ec8",
   "metadata": {},
   "outputs": [],
   "source": [
    "# create PS4 variable\n",
    "sales_ps4 = sales_jp.loc[sales_jp[\"platform\"] == \"PlayStation 4\"].copy()"
   ]
  },
  {
   "cell_type": "code",
   "execution_count": 36,
   "id": "2aae487d",
   "metadata": {},
   "outputs": [],
   "source": [
    "# create Xbox One variable\n",
    "sales_xbox = sales_jp.loc[sales_jp[\"platform\"] == \"Xbox One\"].copy()"
   ]
  },
  {
   "cell_type": "code",
   "execution_count": null,
   "id": "2c429fdc",
   "metadata": {},
   "outputs": [],
   "source": []
  },
  {
   "cell_type": "code",
   "execution_count": 37,
   "id": "a1ed5770",
   "metadata": {},
   "outputs": [
    {
     "data": {
      "text/plain": [
       "2011    224\n",
       "2014    169\n",
       "2016    167\n",
       "2010    163\n",
       "2015    162\n",
       "2009    156\n",
       "2008    122\n",
       "2012    113\n",
       "2013    112\n",
       "2007    109\n",
       "2017    107\n",
       "2006     76\n",
       "2005     71\n",
       "2018     59\n",
       "2004     58\n",
       "2003     54\n",
       "2002     42\n",
       "2001     36\n",
       "2000     30\n",
       "1999     24\n",
       "1998     16\n",
       "1996     14\n",
       "1995     12\n",
       "1997     10\n",
       "1993      8\n",
       "1994      4\n",
       "1992      2\n",
       "1988      1\n",
       "1986      1\n",
       "1989      1\n",
       "Name: year, dtype: int64"
      ]
     },
     "execution_count": 37,
     "metadata": {},
     "output_type": "execute_result"
    }
   ],
   "source": [
    "sales_pc['year'].value_counts()"
   ]
  },
  {
   "cell_type": "code",
   "execution_count": 38,
   "id": "1e6fac63",
   "metadata": {},
   "outputs": [],
   "source": [
    "# restrict year range\n",
    "sales_pc = sales_pc.loc[sales_pc[\"year\"] >= 1995]"
   ]
  },
  {
   "cell_type": "code",
   "execution_count": null,
   "id": "207fd54e",
   "metadata": {},
   "outputs": [],
   "source": []
  },
  {
   "cell_type": "code",
   "execution_count": 39,
   "id": "0fc32916",
   "metadata": {},
   "outputs": [],
   "source": [
    "# write new csv files\n",
    "sales_joined.to_csv(here(\"./clean_data/sales-joined.csv\"), index=False)\n",
    "sales_jp.to_csv(here(\"./clean_data/sales-jp.csv\"), index=False)\n",
    "sales_pc.to_csv(here(\"./clean_data/sales-pc.csv\"), index=False)\n",
    "sales_ps4.to_csv(here(\"./clean_data/sales-ps4.csv\"), index=False)\n",
    "sales_xbox.to_csv(here(\"./clean_data/sales-xbox.csv\"), index=False)"
   ]
  }
 ],
 "metadata": {
  "kernelspec": {
   "display_name": "Python 3 (ipykernel)",
   "language": "python",
   "name": "python3"
  },
  "language_info": {
   "codemirror_mode": {
    "name": "ipython",
    "version": 3
   },
   "file_extension": ".py",
   "mimetype": "text/x-python",
   "name": "python",
   "nbconvert_exporter": "python",
   "pygments_lexer": "ipython3",
   "version": "3.9.7"
  },
  "toc": {
   "base_numbering": 1,
   "nav_menu": {},
   "number_sections": true,
   "sideBar": true,
   "skip_h1_title": false,
   "title_cell": "Table of Contents",
   "title_sidebar": "Contents",
   "toc_cell": false,
   "toc_position": {},
   "toc_section_display": true,
   "toc_window_display": false
  },
  "varInspector": {
   "cols": {
    "lenName": 16,
    "lenType": 16,
    "lenVar": 40
   },
   "kernels_config": {
    "python": {
     "delete_cmd_postfix": "",
     "delete_cmd_prefix": "del ",
     "library": "var_list.py",
     "varRefreshCmd": "print(var_dic_list())"
    },
    "r": {
     "delete_cmd_postfix": ") ",
     "delete_cmd_prefix": "rm(",
     "library": "var_list.r",
     "varRefreshCmd": "cat(var_dic_list()) "
    }
   },
   "position": {
    "height": "194.852px",
    "left": "754px",
    "right": "20px",
    "top": "109px",
    "width": "386px"
   },
   "types_to_exclude": [
    "module",
    "function",
    "builtin_function_or_method",
    "instance",
    "_Feature"
   ],
   "window_display": false
  }
 },
 "nbformat": 4,
 "nbformat_minor": 5
}
